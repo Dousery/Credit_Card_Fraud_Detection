{
  "cells": [
    {
      "cell_type": "markdown",
      "metadata": {
        "id": "WJ9cM77PvOKc"
      },
      "source": [
        "**Importing the Dependencies**\n",
        "\n",
        "---\n",
        "\n",
        "\n"
      ]
    },
    {
      "cell_type": "markdown",
      "source": [
        "Here, libraries related to machine learning are imported.\n",
        "\n",
        "**The imported libraries are:**\n",
        "\n",
        "**numpy** - A fundamental library for scientific computing in Python. It provides high-performance operations on arrays and matrices.\n",
        "\n",
        "**pandas** - A library used for data manipulation and analysis. It allows processing data in tabular (DataFrame) form.\n",
        "\n",
        "**seaborn** - A Python library used for data visualization. It is based on Matplotlib and is used to create more attractive and informative graphs.\n",
        "\n",
        "**matplotlib.pyplot** - A library used for creating plots in Python. It is used for graph plotting operations.\n",
        "\n",
        "**sklearn.model_selection** - A library used for splitting data, cross-validation, and other tasks related to training and evaluating machine learning models.\n",
        "\n",
        "**sklearn.metrics** - A sub-library containing metrics used to evaluate the performance of machine learning models."
      ],
      "metadata": {
        "id": "FLXL3I8pQYbq"
      }
    },
    {
      "cell_type": "code",
      "execution_count": 138,
      "metadata": {
        "id": "au4N_ksl8TAJ"
      },
      "outputs": [],
      "source": [
        "import numpy as np\n",
        "import pandas as pd\n",
        "import seaborn as sns\n",
        "import matplotlib.pyplot as plt\n",
        "from sklearn.model_selection import train_test_split\n",
        "from sklearn.model_selection import cross_val_score\n",
        "from sklearn.metrics import confusion_matrix, classification_report, accuracy_score, precision_score, recall_score, f1_score\n"
      ]
    },
    {
      "cell_type": "markdown",
      "source": [
        "**Importing the models**\n",
        "\n",
        "---\n",
        "\n"
      ],
      "metadata": {
        "id": "NtqUPUovSWzM"
      }
    },
    {
      "cell_type": "markdown",
      "metadata": {
        "id": "PBYjRzYO8luz"
      },
      "source": [
        "**LogisticRegression:** It's used for binary classification problems and assumes that the data can be linearly separated.\n",
        "\n",
        "**LGBMClassifier:** It's a fast and high-performance tree-based model. It uses gradient boosting and typically performs well with large datasets.\n",
        "\n",
        "**DecisionTreeClassifier:** Decision trees classify data by making decisions based on the values of features in the dataset. It's a simple yet effective classification algorithm.\n",
        "\n",
        "**RandomForestClassifier:** It works by combining many decision trees to produce more accurate and stable results. It often performs well on large datasets."
      ]
    },
    {
      "cell_type": "code",
      "execution_count": 139,
      "metadata": {
        "id": "2AH_ELbo8lFP"
      },
      "outputs": [],
      "source": [
        "from sklearn.linear_model import LogisticRegression\n",
        "from lightgbm.sklearn import LGBMClassifier\n",
        "from sklearn.tree import DecisionTreeClassifier\n",
        "from sklearn.ensemble import RandomForestClassifier"
      ]
    },
    {
      "cell_type": "code",
      "execution_count": 140,
      "metadata": {
        "id": "NOu9zIwkyaCi"
      },
      "outputs": [],
      "source": [
        "# Loading the dataset to a Pandas DataFrame\n",
        "credit_card_data = pd.read_csv(\"/content/sample_data/creditcard.csv\")"
      ]
    },
    {
      "cell_type": "code",
      "execution_count": 141,
      "metadata": {
        "colab": {
          "base_uri": "https://localhost:8080/",
          "height": 255
        },
        "id": "ti_vWvV6zlQ-",
        "outputId": "3870f09a-f1c6-4d2d-ecdf-e9b143077880"
      },
      "outputs": [
        {
          "output_type": "execute_result",
          "data": {
            "text/plain": [
              "   Time        V1        V2        V3        V4        V5        V6        V7  \\\n",
              "0     0 -1.359807 -0.072781  2.536347  1.378155 -0.338321  0.462388  0.239599   \n",
              "1     0  1.191857  0.266151  0.166480  0.448154  0.060018 -0.082361 -0.078803   \n",
              "2     1 -1.358354 -1.340163  1.773209  0.379780 -0.503198  1.800499  0.791461   \n",
              "3     1 -0.966272 -0.185226  1.792993 -0.863291 -0.010309  1.247203  0.237609   \n",
              "4     2 -1.158233  0.877737  1.548718  0.403034 -0.407193  0.095921  0.592941   \n",
              "\n",
              "         V8        V9  ...       V21       V22       V23       V24       V25  \\\n",
              "0  0.098698  0.363787  ... -0.018307  0.277838 -0.110474  0.066928  0.128539   \n",
              "1  0.085102 -0.255425  ... -0.225775 -0.638672  0.101288 -0.339846  0.167170   \n",
              "2  0.247676 -1.514654  ...  0.247998  0.771679  0.909412 -0.689281 -0.327642   \n",
              "3  0.377436 -1.387024  ... -0.108300  0.005274 -0.190321 -1.175575  0.647376   \n",
              "4 -0.270533  0.817739  ... -0.009431  0.798278 -0.137458  0.141267 -0.206010   \n",
              "\n",
              "        V26       V27       V28  Amount  Class  \n",
              "0 -0.189115  0.133558 -0.021053  149.62    0.0  \n",
              "1  0.125895 -0.008983  0.014724    2.69    0.0  \n",
              "2 -0.139097 -0.055353 -0.059752  378.66    0.0  \n",
              "3 -0.221929  0.062723  0.061458  123.50    0.0  \n",
              "4  0.502292  0.219422  0.215153   69.99    0.0  \n",
              "\n",
              "[5 rows x 31 columns]"
            ],
            "text/html": [
              "\n",
              "  <div id=\"df-8152001b-9015-4f9d-b16e-cc1c070dec5e\" class=\"colab-df-container\">\n",
              "    <div>\n",
              "<style scoped>\n",
              "    .dataframe tbody tr th:only-of-type {\n",
              "        vertical-align: middle;\n",
              "    }\n",
              "\n",
              "    .dataframe tbody tr th {\n",
              "        vertical-align: top;\n",
              "    }\n",
              "\n",
              "    .dataframe thead th {\n",
              "        text-align: right;\n",
              "    }\n",
              "</style>\n",
              "<table border=\"1\" class=\"dataframe\">\n",
              "  <thead>\n",
              "    <tr style=\"text-align: right;\">\n",
              "      <th></th>\n",
              "      <th>Time</th>\n",
              "      <th>V1</th>\n",
              "      <th>V2</th>\n",
              "      <th>V3</th>\n",
              "      <th>V4</th>\n",
              "      <th>V5</th>\n",
              "      <th>V6</th>\n",
              "      <th>V7</th>\n",
              "      <th>V8</th>\n",
              "      <th>V9</th>\n",
              "      <th>...</th>\n",
              "      <th>V21</th>\n",
              "      <th>V22</th>\n",
              "      <th>V23</th>\n",
              "      <th>V24</th>\n",
              "      <th>V25</th>\n",
              "      <th>V26</th>\n",
              "      <th>V27</th>\n",
              "      <th>V28</th>\n",
              "      <th>Amount</th>\n",
              "      <th>Class</th>\n",
              "    </tr>\n",
              "  </thead>\n",
              "  <tbody>\n",
              "    <tr>\n",
              "      <th>0</th>\n",
              "      <td>0</td>\n",
              "      <td>-1.359807</td>\n",
              "      <td>-0.072781</td>\n",
              "      <td>2.536347</td>\n",
              "      <td>1.378155</td>\n",
              "      <td>-0.338321</td>\n",
              "      <td>0.462388</td>\n",
              "      <td>0.239599</td>\n",
              "      <td>0.098698</td>\n",
              "      <td>0.363787</td>\n",
              "      <td>...</td>\n",
              "      <td>-0.018307</td>\n",
              "      <td>0.277838</td>\n",
              "      <td>-0.110474</td>\n",
              "      <td>0.066928</td>\n",
              "      <td>0.128539</td>\n",
              "      <td>-0.189115</td>\n",
              "      <td>0.133558</td>\n",
              "      <td>-0.021053</td>\n",
              "      <td>149.62</td>\n",
              "      <td>0.0</td>\n",
              "    </tr>\n",
              "    <tr>\n",
              "      <th>1</th>\n",
              "      <td>0</td>\n",
              "      <td>1.191857</td>\n",
              "      <td>0.266151</td>\n",
              "      <td>0.166480</td>\n",
              "      <td>0.448154</td>\n",
              "      <td>0.060018</td>\n",
              "      <td>-0.082361</td>\n",
              "      <td>-0.078803</td>\n",
              "      <td>0.085102</td>\n",
              "      <td>-0.255425</td>\n",
              "      <td>...</td>\n",
              "      <td>-0.225775</td>\n",
              "      <td>-0.638672</td>\n",
              "      <td>0.101288</td>\n",
              "      <td>-0.339846</td>\n",
              "      <td>0.167170</td>\n",
              "      <td>0.125895</td>\n",
              "      <td>-0.008983</td>\n",
              "      <td>0.014724</td>\n",
              "      <td>2.69</td>\n",
              "      <td>0.0</td>\n",
              "    </tr>\n",
              "    <tr>\n",
              "      <th>2</th>\n",
              "      <td>1</td>\n",
              "      <td>-1.358354</td>\n",
              "      <td>-1.340163</td>\n",
              "      <td>1.773209</td>\n",
              "      <td>0.379780</td>\n",
              "      <td>-0.503198</td>\n",
              "      <td>1.800499</td>\n",
              "      <td>0.791461</td>\n",
              "      <td>0.247676</td>\n",
              "      <td>-1.514654</td>\n",
              "      <td>...</td>\n",
              "      <td>0.247998</td>\n",
              "      <td>0.771679</td>\n",
              "      <td>0.909412</td>\n",
              "      <td>-0.689281</td>\n",
              "      <td>-0.327642</td>\n",
              "      <td>-0.139097</td>\n",
              "      <td>-0.055353</td>\n",
              "      <td>-0.059752</td>\n",
              "      <td>378.66</td>\n",
              "      <td>0.0</td>\n",
              "    </tr>\n",
              "    <tr>\n",
              "      <th>3</th>\n",
              "      <td>1</td>\n",
              "      <td>-0.966272</td>\n",
              "      <td>-0.185226</td>\n",
              "      <td>1.792993</td>\n",
              "      <td>-0.863291</td>\n",
              "      <td>-0.010309</td>\n",
              "      <td>1.247203</td>\n",
              "      <td>0.237609</td>\n",
              "      <td>0.377436</td>\n",
              "      <td>-1.387024</td>\n",
              "      <td>...</td>\n",
              "      <td>-0.108300</td>\n",
              "      <td>0.005274</td>\n",
              "      <td>-0.190321</td>\n",
              "      <td>-1.175575</td>\n",
              "      <td>0.647376</td>\n",
              "      <td>-0.221929</td>\n",
              "      <td>0.062723</td>\n",
              "      <td>0.061458</td>\n",
              "      <td>123.50</td>\n",
              "      <td>0.0</td>\n",
              "    </tr>\n",
              "    <tr>\n",
              "      <th>4</th>\n",
              "      <td>2</td>\n",
              "      <td>-1.158233</td>\n",
              "      <td>0.877737</td>\n",
              "      <td>1.548718</td>\n",
              "      <td>0.403034</td>\n",
              "      <td>-0.407193</td>\n",
              "      <td>0.095921</td>\n",
              "      <td>0.592941</td>\n",
              "      <td>-0.270533</td>\n",
              "      <td>0.817739</td>\n",
              "      <td>...</td>\n",
              "      <td>-0.009431</td>\n",
              "      <td>0.798278</td>\n",
              "      <td>-0.137458</td>\n",
              "      <td>0.141267</td>\n",
              "      <td>-0.206010</td>\n",
              "      <td>0.502292</td>\n",
              "      <td>0.219422</td>\n",
              "      <td>0.215153</td>\n",
              "      <td>69.99</td>\n",
              "      <td>0.0</td>\n",
              "    </tr>\n",
              "  </tbody>\n",
              "</table>\n",
              "<p>5 rows × 31 columns</p>\n",
              "</div>\n",
              "    <div class=\"colab-df-buttons\">\n",
              "\n",
              "  <div class=\"colab-df-container\">\n",
              "    <button class=\"colab-df-convert\" onclick=\"convertToInteractive('df-8152001b-9015-4f9d-b16e-cc1c070dec5e')\"\n",
              "            title=\"Convert this dataframe to an interactive table.\"\n",
              "            style=\"display:none;\">\n",
              "\n",
              "  <svg xmlns=\"http://www.w3.org/2000/svg\" height=\"24px\" viewBox=\"0 -960 960 960\">\n",
              "    <path d=\"M120-120v-720h720v720H120Zm60-500h600v-160H180v160Zm220 220h160v-160H400v160Zm0 220h160v-160H400v160ZM180-400h160v-160H180v160Zm440 0h160v-160H620v160ZM180-180h160v-160H180v160Zm440 0h160v-160H620v160Z\"/>\n",
              "  </svg>\n",
              "    </button>\n",
              "\n",
              "  <style>\n",
              "    .colab-df-container {\n",
              "      display:flex;\n",
              "      gap: 12px;\n",
              "    }\n",
              "\n",
              "    .colab-df-convert {\n",
              "      background-color: #E8F0FE;\n",
              "      border: none;\n",
              "      border-radius: 50%;\n",
              "      cursor: pointer;\n",
              "      display: none;\n",
              "      fill: #1967D2;\n",
              "      height: 32px;\n",
              "      padding: 0 0 0 0;\n",
              "      width: 32px;\n",
              "    }\n",
              "\n",
              "    .colab-df-convert:hover {\n",
              "      background-color: #E2EBFA;\n",
              "      box-shadow: 0px 1px 2px rgba(60, 64, 67, 0.3), 0px 1px 3px 1px rgba(60, 64, 67, 0.15);\n",
              "      fill: #174EA6;\n",
              "    }\n",
              "\n",
              "    .colab-df-buttons div {\n",
              "      margin-bottom: 4px;\n",
              "    }\n",
              "\n",
              "    [theme=dark] .colab-df-convert {\n",
              "      background-color: #3B4455;\n",
              "      fill: #D2E3FC;\n",
              "    }\n",
              "\n",
              "    [theme=dark] .colab-df-convert:hover {\n",
              "      background-color: #434B5C;\n",
              "      box-shadow: 0px 1px 3px 1px rgba(0, 0, 0, 0.15);\n",
              "      filter: drop-shadow(0px 1px 2px rgba(0, 0, 0, 0.3));\n",
              "      fill: #FFFFFF;\n",
              "    }\n",
              "  </style>\n",
              "\n",
              "    <script>\n",
              "      const buttonEl =\n",
              "        document.querySelector('#df-8152001b-9015-4f9d-b16e-cc1c070dec5e button.colab-df-convert');\n",
              "      buttonEl.style.display =\n",
              "        google.colab.kernel.accessAllowed ? 'block' : 'none';\n",
              "\n",
              "      async function convertToInteractive(key) {\n",
              "        const element = document.querySelector('#df-8152001b-9015-4f9d-b16e-cc1c070dec5e');\n",
              "        const dataTable =\n",
              "          await google.colab.kernel.invokeFunction('convertToInteractive',\n",
              "                                                    [key], {});\n",
              "        if (!dataTable) return;\n",
              "\n",
              "        const docLinkHtml = 'Like what you see? Visit the ' +\n",
              "          '<a target=\"_blank\" href=https://colab.research.google.com/notebooks/data_table.ipynb>data table notebook</a>'\n",
              "          + ' to learn more about interactive tables.';\n",
              "        element.innerHTML = '';\n",
              "        dataTable['output_type'] = 'display_data';\n",
              "        await google.colab.output.renderOutput(dataTable, element);\n",
              "        const docLink = document.createElement('div');\n",
              "        docLink.innerHTML = docLinkHtml;\n",
              "        element.appendChild(docLink);\n",
              "      }\n",
              "    </script>\n",
              "  </div>\n",
              "\n",
              "\n",
              "<div id=\"df-a51ad177-ef19-4395-8b74-b9f97f4ab606\">\n",
              "  <button class=\"colab-df-quickchart\" onclick=\"quickchart('df-a51ad177-ef19-4395-8b74-b9f97f4ab606')\"\n",
              "            title=\"Suggest charts\"\n",
              "            style=\"display:none;\">\n",
              "\n",
              "<svg xmlns=\"http://www.w3.org/2000/svg\" height=\"24px\"viewBox=\"0 0 24 24\"\n",
              "     width=\"24px\">\n",
              "    <g>\n",
              "        <path d=\"M19 3H5c-1.1 0-2 .9-2 2v14c0 1.1.9 2 2 2h14c1.1 0 2-.9 2-2V5c0-1.1-.9-2-2-2zM9 17H7v-7h2v7zm4 0h-2V7h2v10zm4 0h-2v-4h2v4z\"/>\n",
              "    </g>\n",
              "</svg>\n",
              "  </button>\n",
              "\n",
              "<style>\n",
              "  .colab-df-quickchart {\n",
              "      --bg-color: #E8F0FE;\n",
              "      --fill-color: #1967D2;\n",
              "      --hover-bg-color: #E2EBFA;\n",
              "      --hover-fill-color: #174EA6;\n",
              "      --disabled-fill-color: #AAA;\n",
              "      --disabled-bg-color: #DDD;\n",
              "  }\n",
              "\n",
              "  [theme=dark] .colab-df-quickchart {\n",
              "      --bg-color: #3B4455;\n",
              "      --fill-color: #D2E3FC;\n",
              "      --hover-bg-color: #434B5C;\n",
              "      --hover-fill-color: #FFFFFF;\n",
              "      --disabled-bg-color: #3B4455;\n",
              "      --disabled-fill-color: #666;\n",
              "  }\n",
              "\n",
              "  .colab-df-quickchart {\n",
              "    background-color: var(--bg-color);\n",
              "    border: none;\n",
              "    border-radius: 50%;\n",
              "    cursor: pointer;\n",
              "    display: none;\n",
              "    fill: var(--fill-color);\n",
              "    height: 32px;\n",
              "    padding: 0;\n",
              "    width: 32px;\n",
              "  }\n",
              "\n",
              "  .colab-df-quickchart:hover {\n",
              "    background-color: var(--hover-bg-color);\n",
              "    box-shadow: 0 1px 2px rgba(60, 64, 67, 0.3), 0 1px 3px 1px rgba(60, 64, 67, 0.15);\n",
              "    fill: var(--button-hover-fill-color);\n",
              "  }\n",
              "\n",
              "  .colab-df-quickchart-complete:disabled,\n",
              "  .colab-df-quickchart-complete:disabled:hover {\n",
              "    background-color: var(--disabled-bg-color);\n",
              "    fill: var(--disabled-fill-color);\n",
              "    box-shadow: none;\n",
              "  }\n",
              "\n",
              "  .colab-df-spinner {\n",
              "    border: 2px solid var(--fill-color);\n",
              "    border-color: transparent;\n",
              "    border-bottom-color: var(--fill-color);\n",
              "    animation:\n",
              "      spin 1s steps(1) infinite;\n",
              "  }\n",
              "\n",
              "  @keyframes spin {\n",
              "    0% {\n",
              "      border-color: transparent;\n",
              "      border-bottom-color: var(--fill-color);\n",
              "      border-left-color: var(--fill-color);\n",
              "    }\n",
              "    20% {\n",
              "      border-color: transparent;\n",
              "      border-left-color: var(--fill-color);\n",
              "      border-top-color: var(--fill-color);\n",
              "    }\n",
              "    30% {\n",
              "      border-color: transparent;\n",
              "      border-left-color: var(--fill-color);\n",
              "      border-top-color: var(--fill-color);\n",
              "      border-right-color: var(--fill-color);\n",
              "    }\n",
              "    40% {\n",
              "      border-color: transparent;\n",
              "      border-right-color: var(--fill-color);\n",
              "      border-top-color: var(--fill-color);\n",
              "    }\n",
              "    60% {\n",
              "      border-color: transparent;\n",
              "      border-right-color: var(--fill-color);\n",
              "    }\n",
              "    80% {\n",
              "      border-color: transparent;\n",
              "      border-right-color: var(--fill-color);\n",
              "      border-bottom-color: var(--fill-color);\n",
              "    }\n",
              "    90% {\n",
              "      border-color: transparent;\n",
              "      border-bottom-color: var(--fill-color);\n",
              "    }\n",
              "  }\n",
              "</style>\n",
              "\n",
              "  <script>\n",
              "    async function quickchart(key) {\n",
              "      const quickchartButtonEl =\n",
              "        document.querySelector('#' + key + ' button');\n",
              "      quickchartButtonEl.disabled = true;  // To prevent multiple clicks.\n",
              "      quickchartButtonEl.classList.add('colab-df-spinner');\n",
              "      try {\n",
              "        const charts = await google.colab.kernel.invokeFunction(\n",
              "            'suggestCharts', [key], {});\n",
              "      } catch (error) {\n",
              "        console.error('Error during call to suggestCharts:', error);\n",
              "      }\n",
              "      quickchartButtonEl.classList.remove('colab-df-spinner');\n",
              "      quickchartButtonEl.classList.add('colab-df-quickchart-complete');\n",
              "    }\n",
              "    (() => {\n",
              "      let quickchartButtonEl =\n",
              "        document.querySelector('#df-a51ad177-ef19-4395-8b74-b9f97f4ab606 button');\n",
              "      quickchartButtonEl.style.display =\n",
              "        google.colab.kernel.accessAllowed ? 'block' : 'none';\n",
              "    })();\n",
              "  </script>\n",
              "</div>\n",
              "\n",
              "    </div>\n",
              "  </div>\n"
            ],
            "application/vnd.google.colaboratory.intrinsic+json": {
              "type": "dataframe",
              "variable_name": "credit_card_data"
            }
          },
          "metadata": {},
          "execution_count": 141
        }
      ],
      "source": [
        "# Check first 5 rows of our dataset\n",
        "credit_card_data.head()"
      ]
    },
    {
      "cell_type": "code",
      "execution_count": 142,
      "metadata": {
        "colab": {
          "base_uri": "https://localhost:8080/",
          "height": 255
        },
        "id": "WqIX2g3Mz0SM",
        "outputId": "67ea5083-d39a-4be6-a1bc-0203e4ee97db"
      },
      "outputs": [
        {
          "output_type": "execute_result",
          "data": {
            "text/plain": [
              "        Time        V1        V2        V3        V4        V5        V6  \\\n",
              "19893  30631 -0.377215  0.973528  1.647077  0.732439  0.024728 -0.541379   \n",
              "19894  30631  1.209281  0.078793  0.061820  0.593730 -0.235772 -0.448524   \n",
              "19895  30632  1.286596 -1.450336  0.814530 -1.308949 -2.055209 -0.592064   \n",
              "19896  30633 -0.488090  1.018448  0.670593 -0.245462  0.828347 -0.233102   \n",
              "19897  30633 -2.609841  2.479357  0.763844  0.044509 -0.645716  0.762867   \n",
              "\n",
              "             V7        V8        V9  ...       V21       V22       V23  \\\n",
              "19893  0.828488 -0.060740 -0.725148  ...  0.228443  0.685913 -0.107687   \n",
              "19894 -0.141196  0.089236  0.411825  ... -0.302369 -0.984051  0.130401   \n",
              "19895 -1.317286  0.032386 -1.720017  ...  0.040743  0.262534 -0.045112   \n",
              "19896  0.662586 -0.040028 -0.279439  ... -0.344859 -0.902035 -0.050171   \n",
              "19897 -1.626415 -7.617854  1.399746  ...       NaN       NaN       NaN   \n",
              "\n",
              "            V24       V25       V26       V27       V28  Amount  Class  \n",
              "19893  0.631740  0.126366 -0.327633  0.056522  0.033139   29.90    0.0  \n",
              "19894 -0.390756  0.105615  0.152881 -0.025292  0.021130   16.00    0.0  \n",
              "19895  0.515660  0.218606 -0.138794  0.026395  0.030885   92.00    0.0  \n",
              "19896 -1.060827  0.062221  0.150428  0.130266  0.067290    1.99    0.0  \n",
              "19897       NaN       NaN       NaN       NaN       NaN     NaN    NaN  \n",
              "\n",
              "[5 rows x 31 columns]"
            ],
            "text/html": [
              "\n",
              "  <div id=\"df-1e058934-636b-4cdc-bdd5-0a3ab1e96cd0\" class=\"colab-df-container\">\n",
              "    <div>\n",
              "<style scoped>\n",
              "    .dataframe tbody tr th:only-of-type {\n",
              "        vertical-align: middle;\n",
              "    }\n",
              "\n",
              "    .dataframe tbody tr th {\n",
              "        vertical-align: top;\n",
              "    }\n",
              "\n",
              "    .dataframe thead th {\n",
              "        text-align: right;\n",
              "    }\n",
              "</style>\n",
              "<table border=\"1\" class=\"dataframe\">\n",
              "  <thead>\n",
              "    <tr style=\"text-align: right;\">\n",
              "      <th></th>\n",
              "      <th>Time</th>\n",
              "      <th>V1</th>\n",
              "      <th>V2</th>\n",
              "      <th>V3</th>\n",
              "      <th>V4</th>\n",
              "      <th>V5</th>\n",
              "      <th>V6</th>\n",
              "      <th>V7</th>\n",
              "      <th>V8</th>\n",
              "      <th>V9</th>\n",
              "      <th>...</th>\n",
              "      <th>V21</th>\n",
              "      <th>V22</th>\n",
              "      <th>V23</th>\n",
              "      <th>V24</th>\n",
              "      <th>V25</th>\n",
              "      <th>V26</th>\n",
              "      <th>V27</th>\n",
              "      <th>V28</th>\n",
              "      <th>Amount</th>\n",
              "      <th>Class</th>\n",
              "    </tr>\n",
              "  </thead>\n",
              "  <tbody>\n",
              "    <tr>\n",
              "      <th>19893</th>\n",
              "      <td>30631</td>\n",
              "      <td>-0.377215</td>\n",
              "      <td>0.973528</td>\n",
              "      <td>1.647077</td>\n",
              "      <td>0.732439</td>\n",
              "      <td>0.024728</td>\n",
              "      <td>-0.541379</td>\n",
              "      <td>0.828488</td>\n",
              "      <td>-0.060740</td>\n",
              "      <td>-0.725148</td>\n",
              "      <td>...</td>\n",
              "      <td>0.228443</td>\n",
              "      <td>0.685913</td>\n",
              "      <td>-0.107687</td>\n",
              "      <td>0.631740</td>\n",
              "      <td>0.126366</td>\n",
              "      <td>-0.327633</td>\n",
              "      <td>0.056522</td>\n",
              "      <td>0.033139</td>\n",
              "      <td>29.90</td>\n",
              "      <td>0.0</td>\n",
              "    </tr>\n",
              "    <tr>\n",
              "      <th>19894</th>\n",
              "      <td>30631</td>\n",
              "      <td>1.209281</td>\n",
              "      <td>0.078793</td>\n",
              "      <td>0.061820</td>\n",
              "      <td>0.593730</td>\n",
              "      <td>-0.235772</td>\n",
              "      <td>-0.448524</td>\n",
              "      <td>-0.141196</td>\n",
              "      <td>0.089236</td>\n",
              "      <td>0.411825</td>\n",
              "      <td>...</td>\n",
              "      <td>-0.302369</td>\n",
              "      <td>-0.984051</td>\n",
              "      <td>0.130401</td>\n",
              "      <td>-0.390756</td>\n",
              "      <td>0.105615</td>\n",
              "      <td>0.152881</td>\n",
              "      <td>-0.025292</td>\n",
              "      <td>0.021130</td>\n",
              "      <td>16.00</td>\n",
              "      <td>0.0</td>\n",
              "    </tr>\n",
              "    <tr>\n",
              "      <th>19895</th>\n",
              "      <td>30632</td>\n",
              "      <td>1.286596</td>\n",
              "      <td>-1.450336</td>\n",
              "      <td>0.814530</td>\n",
              "      <td>-1.308949</td>\n",
              "      <td>-2.055209</td>\n",
              "      <td>-0.592064</td>\n",
              "      <td>-1.317286</td>\n",
              "      <td>0.032386</td>\n",
              "      <td>-1.720017</td>\n",
              "      <td>...</td>\n",
              "      <td>0.040743</td>\n",
              "      <td>0.262534</td>\n",
              "      <td>-0.045112</td>\n",
              "      <td>0.515660</td>\n",
              "      <td>0.218606</td>\n",
              "      <td>-0.138794</td>\n",
              "      <td>0.026395</td>\n",
              "      <td>0.030885</td>\n",
              "      <td>92.00</td>\n",
              "      <td>0.0</td>\n",
              "    </tr>\n",
              "    <tr>\n",
              "      <th>19896</th>\n",
              "      <td>30633</td>\n",
              "      <td>-0.488090</td>\n",
              "      <td>1.018448</td>\n",
              "      <td>0.670593</td>\n",
              "      <td>-0.245462</td>\n",
              "      <td>0.828347</td>\n",
              "      <td>-0.233102</td>\n",
              "      <td>0.662586</td>\n",
              "      <td>-0.040028</td>\n",
              "      <td>-0.279439</td>\n",
              "      <td>...</td>\n",
              "      <td>-0.344859</td>\n",
              "      <td>-0.902035</td>\n",
              "      <td>-0.050171</td>\n",
              "      <td>-1.060827</td>\n",
              "      <td>0.062221</td>\n",
              "      <td>0.150428</td>\n",
              "      <td>0.130266</td>\n",
              "      <td>0.067290</td>\n",
              "      <td>1.99</td>\n",
              "      <td>0.0</td>\n",
              "    </tr>\n",
              "    <tr>\n",
              "      <th>19897</th>\n",
              "      <td>30633</td>\n",
              "      <td>-2.609841</td>\n",
              "      <td>2.479357</td>\n",
              "      <td>0.763844</td>\n",
              "      <td>0.044509</td>\n",
              "      <td>-0.645716</td>\n",
              "      <td>0.762867</td>\n",
              "      <td>-1.626415</td>\n",
              "      <td>-7.617854</td>\n",
              "      <td>1.399746</td>\n",
              "      <td>...</td>\n",
              "      <td>NaN</td>\n",
              "      <td>NaN</td>\n",
              "      <td>NaN</td>\n",
              "      <td>NaN</td>\n",
              "      <td>NaN</td>\n",
              "      <td>NaN</td>\n",
              "      <td>NaN</td>\n",
              "      <td>NaN</td>\n",
              "      <td>NaN</td>\n",
              "      <td>NaN</td>\n",
              "    </tr>\n",
              "  </tbody>\n",
              "</table>\n",
              "<p>5 rows × 31 columns</p>\n",
              "</div>\n",
              "    <div class=\"colab-df-buttons\">\n",
              "\n",
              "  <div class=\"colab-df-container\">\n",
              "    <button class=\"colab-df-convert\" onclick=\"convertToInteractive('df-1e058934-636b-4cdc-bdd5-0a3ab1e96cd0')\"\n",
              "            title=\"Convert this dataframe to an interactive table.\"\n",
              "            style=\"display:none;\">\n",
              "\n",
              "  <svg xmlns=\"http://www.w3.org/2000/svg\" height=\"24px\" viewBox=\"0 -960 960 960\">\n",
              "    <path d=\"M120-120v-720h720v720H120Zm60-500h600v-160H180v160Zm220 220h160v-160H400v160Zm0 220h160v-160H400v160ZM180-400h160v-160H180v160Zm440 0h160v-160H620v160ZM180-180h160v-160H180v160Zm440 0h160v-160H620v160Z\"/>\n",
              "  </svg>\n",
              "    </button>\n",
              "\n",
              "  <style>\n",
              "    .colab-df-container {\n",
              "      display:flex;\n",
              "      gap: 12px;\n",
              "    }\n",
              "\n",
              "    .colab-df-convert {\n",
              "      background-color: #E8F0FE;\n",
              "      border: none;\n",
              "      border-radius: 50%;\n",
              "      cursor: pointer;\n",
              "      display: none;\n",
              "      fill: #1967D2;\n",
              "      height: 32px;\n",
              "      padding: 0 0 0 0;\n",
              "      width: 32px;\n",
              "    }\n",
              "\n",
              "    .colab-df-convert:hover {\n",
              "      background-color: #E2EBFA;\n",
              "      box-shadow: 0px 1px 2px rgba(60, 64, 67, 0.3), 0px 1px 3px 1px rgba(60, 64, 67, 0.15);\n",
              "      fill: #174EA6;\n",
              "    }\n",
              "\n",
              "    .colab-df-buttons div {\n",
              "      margin-bottom: 4px;\n",
              "    }\n",
              "\n",
              "    [theme=dark] .colab-df-convert {\n",
              "      background-color: #3B4455;\n",
              "      fill: #D2E3FC;\n",
              "    }\n",
              "\n",
              "    [theme=dark] .colab-df-convert:hover {\n",
              "      background-color: #434B5C;\n",
              "      box-shadow: 0px 1px 3px 1px rgba(0, 0, 0, 0.15);\n",
              "      filter: drop-shadow(0px 1px 2px rgba(0, 0, 0, 0.3));\n",
              "      fill: #FFFFFF;\n",
              "    }\n",
              "  </style>\n",
              "\n",
              "    <script>\n",
              "      const buttonEl =\n",
              "        document.querySelector('#df-1e058934-636b-4cdc-bdd5-0a3ab1e96cd0 button.colab-df-convert');\n",
              "      buttonEl.style.display =\n",
              "        google.colab.kernel.accessAllowed ? 'block' : 'none';\n",
              "\n",
              "      async function convertToInteractive(key) {\n",
              "        const element = document.querySelector('#df-1e058934-636b-4cdc-bdd5-0a3ab1e96cd0');\n",
              "        const dataTable =\n",
              "          await google.colab.kernel.invokeFunction('convertToInteractive',\n",
              "                                                    [key], {});\n",
              "        if (!dataTable) return;\n",
              "\n",
              "        const docLinkHtml = 'Like what you see? Visit the ' +\n",
              "          '<a target=\"_blank\" href=https://colab.research.google.com/notebooks/data_table.ipynb>data table notebook</a>'\n",
              "          + ' to learn more about interactive tables.';\n",
              "        element.innerHTML = '';\n",
              "        dataTable['output_type'] = 'display_data';\n",
              "        await google.colab.output.renderOutput(dataTable, element);\n",
              "        const docLink = document.createElement('div');\n",
              "        docLink.innerHTML = docLinkHtml;\n",
              "        element.appendChild(docLink);\n",
              "      }\n",
              "    </script>\n",
              "  </div>\n",
              "\n",
              "\n",
              "<div id=\"df-7f8aba62-08a4-4d8f-a568-32fb2b76a74e\">\n",
              "  <button class=\"colab-df-quickchart\" onclick=\"quickchart('df-7f8aba62-08a4-4d8f-a568-32fb2b76a74e')\"\n",
              "            title=\"Suggest charts\"\n",
              "            style=\"display:none;\">\n",
              "\n",
              "<svg xmlns=\"http://www.w3.org/2000/svg\" height=\"24px\"viewBox=\"0 0 24 24\"\n",
              "     width=\"24px\">\n",
              "    <g>\n",
              "        <path d=\"M19 3H5c-1.1 0-2 .9-2 2v14c0 1.1.9 2 2 2h14c1.1 0 2-.9 2-2V5c0-1.1-.9-2-2-2zM9 17H7v-7h2v7zm4 0h-2V7h2v10zm4 0h-2v-4h2v4z\"/>\n",
              "    </g>\n",
              "</svg>\n",
              "  </button>\n",
              "\n",
              "<style>\n",
              "  .colab-df-quickchart {\n",
              "      --bg-color: #E8F0FE;\n",
              "      --fill-color: #1967D2;\n",
              "      --hover-bg-color: #E2EBFA;\n",
              "      --hover-fill-color: #174EA6;\n",
              "      --disabled-fill-color: #AAA;\n",
              "      --disabled-bg-color: #DDD;\n",
              "  }\n",
              "\n",
              "  [theme=dark] .colab-df-quickchart {\n",
              "      --bg-color: #3B4455;\n",
              "      --fill-color: #D2E3FC;\n",
              "      --hover-bg-color: #434B5C;\n",
              "      --hover-fill-color: #FFFFFF;\n",
              "      --disabled-bg-color: #3B4455;\n",
              "      --disabled-fill-color: #666;\n",
              "  }\n",
              "\n",
              "  .colab-df-quickchart {\n",
              "    background-color: var(--bg-color);\n",
              "    border: none;\n",
              "    border-radius: 50%;\n",
              "    cursor: pointer;\n",
              "    display: none;\n",
              "    fill: var(--fill-color);\n",
              "    height: 32px;\n",
              "    padding: 0;\n",
              "    width: 32px;\n",
              "  }\n",
              "\n",
              "  .colab-df-quickchart:hover {\n",
              "    background-color: var(--hover-bg-color);\n",
              "    box-shadow: 0 1px 2px rgba(60, 64, 67, 0.3), 0 1px 3px 1px rgba(60, 64, 67, 0.15);\n",
              "    fill: var(--button-hover-fill-color);\n",
              "  }\n",
              "\n",
              "  .colab-df-quickchart-complete:disabled,\n",
              "  .colab-df-quickchart-complete:disabled:hover {\n",
              "    background-color: var(--disabled-bg-color);\n",
              "    fill: var(--disabled-fill-color);\n",
              "    box-shadow: none;\n",
              "  }\n",
              "\n",
              "  .colab-df-spinner {\n",
              "    border: 2px solid var(--fill-color);\n",
              "    border-color: transparent;\n",
              "    border-bottom-color: var(--fill-color);\n",
              "    animation:\n",
              "      spin 1s steps(1) infinite;\n",
              "  }\n",
              "\n",
              "  @keyframes spin {\n",
              "    0% {\n",
              "      border-color: transparent;\n",
              "      border-bottom-color: var(--fill-color);\n",
              "      border-left-color: var(--fill-color);\n",
              "    }\n",
              "    20% {\n",
              "      border-color: transparent;\n",
              "      border-left-color: var(--fill-color);\n",
              "      border-top-color: var(--fill-color);\n",
              "    }\n",
              "    30% {\n",
              "      border-color: transparent;\n",
              "      border-left-color: var(--fill-color);\n",
              "      border-top-color: var(--fill-color);\n",
              "      border-right-color: var(--fill-color);\n",
              "    }\n",
              "    40% {\n",
              "      border-color: transparent;\n",
              "      border-right-color: var(--fill-color);\n",
              "      border-top-color: var(--fill-color);\n",
              "    }\n",
              "    60% {\n",
              "      border-color: transparent;\n",
              "      border-right-color: var(--fill-color);\n",
              "    }\n",
              "    80% {\n",
              "      border-color: transparent;\n",
              "      border-right-color: var(--fill-color);\n",
              "      border-bottom-color: var(--fill-color);\n",
              "    }\n",
              "    90% {\n",
              "      border-color: transparent;\n",
              "      border-bottom-color: var(--fill-color);\n",
              "    }\n",
              "  }\n",
              "</style>\n",
              "\n",
              "  <script>\n",
              "    async function quickchart(key) {\n",
              "      const quickchartButtonEl =\n",
              "        document.querySelector('#' + key + ' button');\n",
              "      quickchartButtonEl.disabled = true;  // To prevent multiple clicks.\n",
              "      quickchartButtonEl.classList.add('colab-df-spinner');\n",
              "      try {\n",
              "        const charts = await google.colab.kernel.invokeFunction(\n",
              "            'suggestCharts', [key], {});\n",
              "      } catch (error) {\n",
              "        console.error('Error during call to suggestCharts:', error);\n",
              "      }\n",
              "      quickchartButtonEl.classList.remove('colab-df-spinner');\n",
              "      quickchartButtonEl.classList.add('colab-df-quickchart-complete');\n",
              "    }\n",
              "    (() => {\n",
              "      let quickchartButtonEl =\n",
              "        document.querySelector('#df-7f8aba62-08a4-4d8f-a568-32fb2b76a74e button');\n",
              "      quickchartButtonEl.style.display =\n",
              "        google.colab.kernel.accessAllowed ? 'block' : 'none';\n",
              "    })();\n",
              "  </script>\n",
              "</div>\n",
              "\n",
              "    </div>\n",
              "  </div>\n"
            ],
            "application/vnd.google.colaboratory.intrinsic+json": {
              "type": "dataframe"
            }
          },
          "metadata": {},
          "execution_count": 142
        }
      ],
      "source": [
        "# Check last 5 rows of our dataset\n",
        "credit_card_data.tail()"
      ]
    },
    {
      "cell_type": "code",
      "execution_count": 143,
      "metadata": {
        "colab": {
          "base_uri": "https://localhost:8080/"
        },
        "id": "t1NO2uva0nCI",
        "outputId": "a74b040b-c88d-4166-86e9-b6d906bc478e"
      },
      "outputs": [
        {
          "output_type": "stream",
          "name": "stdout",
          "text": [
            "<class 'pandas.core.frame.DataFrame'>\n",
            "RangeIndex: 19898 entries, 0 to 19897\n",
            "Data columns (total 31 columns):\n",
            " #   Column  Non-Null Count  Dtype  \n",
            "---  ------  --------------  -----  \n",
            " 0   Time    19898 non-null  int64  \n",
            " 1   V1      19898 non-null  float64\n",
            " 2   V2      19898 non-null  float64\n",
            " 3   V3      19898 non-null  float64\n",
            " 4   V4      19898 non-null  float64\n",
            " 5   V5      19898 non-null  float64\n",
            " 6   V6      19898 non-null  float64\n",
            " 7   V7      19898 non-null  float64\n",
            " 8   V8      19898 non-null  float64\n",
            " 9   V9      19898 non-null  float64\n",
            " 10  V10     19898 non-null  float64\n",
            " 11  V11     19897 non-null  float64\n",
            " 12  V12     19897 non-null  float64\n",
            " 13  V13     19897 non-null  float64\n",
            " 14  V14     19897 non-null  float64\n",
            " 15  V15     19897 non-null  float64\n",
            " 16  V16     19897 non-null  float64\n",
            " 17  V17     19897 non-null  float64\n",
            " 18  V18     19897 non-null  float64\n",
            " 19  V19     19897 non-null  float64\n",
            " 20  V20     19897 non-null  float64\n",
            " 21  V21     19897 non-null  float64\n",
            " 22  V22     19897 non-null  float64\n",
            " 23  V23     19897 non-null  float64\n",
            " 24  V24     19897 non-null  float64\n",
            " 25  V25     19897 non-null  float64\n",
            " 26  V26     19897 non-null  float64\n",
            " 27  V27     19897 non-null  float64\n",
            " 28  V28     19897 non-null  float64\n",
            " 29  Amount  19897 non-null  float64\n",
            " 30  Class   19897 non-null  float64\n",
            "dtypes: float64(30), int64(1)\n",
            "memory usage: 4.7 MB\n"
          ]
        }
      ],
      "source": [
        "# show dataset information\n",
        "credit_card_data.info()"
      ]
    },
    {
      "cell_type": "code",
      "execution_count": 144,
      "metadata": {
        "colab": {
          "base_uri": "https://localhost:8080/"
        },
        "id": "BBmGv-LO5RIz",
        "outputId": "19624607-90db-4134-d10a-b52bc0f6f7b5"
      },
      "outputs": [
        {
          "output_type": "execute_result",
          "data": {
            "text/plain": [
              "Time      0\n",
              "V1        0\n",
              "V2        0\n",
              "V3        0\n",
              "V4        0\n",
              "V5        0\n",
              "V6        0\n",
              "V7        0\n",
              "V8        0\n",
              "V9        0\n",
              "V10       0\n",
              "V11       1\n",
              "V12       1\n",
              "V13       1\n",
              "V14       1\n",
              "V15       1\n",
              "V16       1\n",
              "V17       1\n",
              "V18       1\n",
              "V19       1\n",
              "V20       1\n",
              "V21       1\n",
              "V22       1\n",
              "V23       1\n",
              "V24       1\n",
              "V25       1\n",
              "V26       1\n",
              "V27       1\n",
              "V28       1\n",
              "Amount    1\n",
              "Class     1\n",
              "dtype: int64"
            ]
          },
          "metadata": {},
          "execution_count": 144
        }
      ],
      "source": [
        "# Checking of the number of missing values in each column\n",
        "credit_card_data.isnull().sum()"
      ]
    },
    {
      "cell_type": "code",
      "execution_count": 145,
      "metadata": {
        "colab": {
          "base_uri": "https://localhost:8080/"
        },
        "id": "zbPFZ5nl6FKb",
        "outputId": "4836eba1-42eb-4785-f403-3cde30fa9e32"
      },
      "outputs": [
        {
          "output_type": "execute_result",
          "data": {
            "text/plain": [
              "Class\n",
              "0.0    19812\n",
              "1.0       85\n",
              "Name: count, dtype: int64"
            ]
          },
          "metadata": {},
          "execution_count": 145
        }
      ],
      "source": [
        "# Details of legit and fraudulent transactions\n",
        "credit_card_data['Class'].value_counts()"
      ]
    },
    {
      "cell_type": "markdown",
      "metadata": {
        "id": "TYkBiQ5f9qCU"
      },
      "source": [
        "**0 means normal transactions while 1 means fraudulent transactions.**\n",
        "\n",
        "**So we have highly unbalanced dataset , we should separate these data.**"
      ]
    },
    {
      "cell_type": "code",
      "execution_count": 146,
      "metadata": {
        "id": "dSBoyg4V-KMq"
      },
      "outputs": [],
      "source": [
        "# Seperating the data for analysis\n",
        "normal = credit_card_data[credit_card_data['Class']==0]\n",
        "fraud = credit_card_data[credit_card_data['Class']==1]"
      ]
    },
    {
      "cell_type": "markdown",
      "metadata": {
        "id": "iNhPXfP9CFUN"
      },
      "source": [
        "**We will do undersampling to balance our unbalanced dataset**"
      ]
    },
    {
      "cell_type": "code",
      "execution_count": 147,
      "metadata": {
        "id": "Rr0Y3sBaDAaj"
      },
      "outputs": [],
      "source": [
        "# Take a sample of normal transactions equal to the number of fraudulent transactions.\n",
        "normal_sample=normal.sample(n=492)"
      ]
    },
    {
      "cell_type": "code",
      "execution_count": 148,
      "metadata": {
        "id": "OKVR1iHyD-7Y"
      },
      "outputs": [],
      "source": [
        "# Concatenating of two DataFrames\n",
        "final_dataset=pd.concat([normal_sample,fraud], axis=0) # axis=0 means concat data row by row"
      ]
    },
    {
      "cell_type": "code",
      "execution_count": 149,
      "metadata": {
        "id": "6Gw1yQVRHjPk"
      },
      "outputs": [],
      "source": [
        "counts=final_dataset['Class'].value_counts()"
      ]
    },
    {
      "cell_type": "code",
      "source": [
        "counts # See the number of 0 and 1 results in our data"
      ],
      "metadata": {
        "colab": {
          "base_uri": "https://localhost:8080/"
        },
        "id": "x-aDkl6pFwgu",
        "outputId": "aa55c020-95c9-4377-eb14-04c3535bd0b0"
      },
      "execution_count": 150,
      "outputs": [
        {
          "output_type": "execute_result",
          "data": {
            "text/plain": [
              "Class\n",
              "0.0    492\n",
              "1.0     85\n",
              "Name: count, dtype: int64"
            ]
          },
          "metadata": {},
          "execution_count": 150
        }
      ]
    },
    {
      "cell_type": "markdown",
      "metadata": {
        "id": "WS_GpJk9PgWx"
      },
      "source": [
        "**Splitting the data features and targets**\n",
        "\n",
        "---\n",
        "\n"
      ]
    },
    {
      "cell_type": "markdown",
      "source": [
        "The first line is used to drop the column 'Class' from your dataset. The 'drop' function removes the specified column ('Class' column here). The parameter 'axis=1' indicates that this operation is column-wise. Thus, the variable 'X' will contain the entire dataset except the 'Class' column. It's often used to represent independent variables.\n",
        "\n",
        "The second line sets the 'Class' column as the dependent variable. The values in this column represent the target variable or class you're trying to predict. The variable 'Y' will contain the values of this target variable."
      ],
      "metadata": {
        "id": "5tPKkfgKaKc9"
      }
    },
    {
      "cell_type": "code",
      "execution_count": 151,
      "metadata": {
        "id": "eycI059eO609"
      },
      "outputs": [],
      "source": [
        "X = final_dataset.drop(columns='Class',axis=1)\n",
        "Y = final_dataset['Class']"
      ]
    },
    {
      "cell_type": "code",
      "execution_count": 152,
      "metadata": {
        "colab": {
          "base_uri": "https://localhost:8080/"
        },
        "id": "4CCvOebpSjeU",
        "outputId": "c6ef39c0-bd66-4856-848a-068a9239945c"
      },
      "outputs": [
        {
          "output_type": "stream",
          "name": "stdout",
          "text": [
            "        Time         V1         V2         V3        V4         V5        V6  \\\n",
            "7653   10600   1.231712  -0.089101   0.655684  0.406777  -0.696112 -0.701142   \n",
            "3304    2853  -1.915755   1.977897   1.191952  0.949368  -0.872613 -0.392553   \n",
            "4917    4461  -1.653528   2.131573   1.977166  2.990607  -0.397349  1.735092   \n",
            "13279  23407   1.240747   0.848160  -0.199825  1.553724   0.171273 -1.194116   \n",
            "5593    5753  -1.128639   1.247640   1.122962  1.101082   0.210313 -0.370124   \n",
            "...      ...        ...        ...        ...       ...        ...       ...   \n",
            "17480  28755 -30.552380  16.713389 -31.103685  6.534984 -22.105532 -4.977692   \n",
            "18466  29526   1.102804   2.829168  -3.932870  4.707691   2.937967 -1.800904   \n",
            "18472  29531  -1.060676   2.608579  -2.971679  4.360089   3.738853 -2.728395   \n",
            "18773  29753   0.269614   3.549755  -5.810353  5.809370   1.538808 -2.269219   \n",
            "18809  29785   0.923764   0.344048  -2.880004  1.721680  -3.019565 -0.639736   \n",
            "\n",
            "              V7         V8        V9  ...       V20       V21       V22  \\\n",
            "7653   -0.252769  -0.229943  2.028699  ... -0.081947 -0.252820 -0.260043   \n",
            "3304   -0.196058   0.840581 -0.114935  ...  0.004341 -0.160892 -0.545390   \n",
            "4917   -1.205032  -1.695986  0.625115  ... -0.293546  1.933407 -1.249552   \n",
            "13279   0.228779  -0.333950  1.172987  ... -0.132409 -0.216618 -0.296833   \n",
            "5593    0.158608   0.322286  0.600274  ... -0.059054  0.063412  0.584495   \n",
            "...          ...        ...       ...  ...       ...       ...       ...   \n",
            "17480 -20.371514  20.007208 -3.565738  ...  1.733644  1.816520 -2.288686   \n",
            "18466   1.672734  -0.300240 -2.783011  ... -0.030880 -0.106994 -0.250050   \n",
            "18472   1.987616  -0.357345 -2.757535  ... -0.089062 -0.063168 -0.207385   \n",
            "18773  -0.824203   0.351070 -3.759059  ...  0.310525  0.371121 -0.322290   \n",
            "18809  -3.801325   1.299096  0.864065  ...  0.170872  0.899931  1.481271   \n",
            "\n",
            "            V23       V24       V25       V26       V27       V28  Amount  \n",
            "7653  -0.064598  0.445576  0.421992  1.070156 -0.095377 -0.002946   23.10  \n",
            "3304  -0.073595  0.358004  0.448044 -0.421188 -0.214564  0.077843    0.99  \n",
            "4917   0.033834 -0.638438  0.300745  0.250025  0.365141  0.076060   18.98  \n",
            "13279 -0.113442  0.194913  0.672662 -0.366472  0.009423  0.051389    1.00  \n",
            "5593   0.145786  0.033051 -0.077220 -0.273844  0.182763  0.107998    5.90  \n",
            "...         ...       ...       ...       ...       ...       ...     ...  \n",
            "17480 -1.460544  0.183179  2.208209 -0.208824  1.232636  0.356660   99.99  \n",
            "18466 -0.521627 -0.448950  1.291646  0.516327  0.009146  0.153318    0.68  \n",
            "18472 -0.183261 -0.103679  0.896178  0.407387 -0.130918  0.192177    0.68  \n",
            "18773 -0.549856 -0.520629  1.378210  0.564714  0.553255  0.402400    0.68  \n",
            "18809  0.725266  0.176960 -1.815638 -0.536517  0.489035 -0.049729   30.30  \n",
            "\n",
            "[577 rows x 30 columns]\n"
          ]
        }
      ],
      "source": [
        "print(X)"
      ]
    },
    {
      "cell_type": "code",
      "execution_count": 153,
      "metadata": {
        "colab": {
          "base_uri": "https://localhost:8080/"
        },
        "id": "ktZLEYpsSqCm",
        "outputId": "c5bd68cc-13a5-4fea-c69a-daff25838dfc"
      },
      "outputs": [
        {
          "output_type": "stream",
          "name": "stdout",
          "text": [
            "7653     0.0\n",
            "3304     0.0\n",
            "4917     0.0\n",
            "13279    0.0\n",
            "5593     0.0\n",
            "        ... \n",
            "17480    1.0\n",
            "18466    1.0\n",
            "18472    1.0\n",
            "18773    1.0\n",
            "18809    1.0\n",
            "Name: Class, Length: 577, dtype: float64\n"
          ]
        }
      ],
      "source": [
        "print(Y)"
      ]
    },
    {
      "cell_type": "markdown",
      "source": [
        "**Exploratoty Data Analysis(EDA) & Visualization.**\n",
        "\n",
        "---\n",
        "\n"
      ],
      "metadata": {
        "id": "wroHrUuEGtRg"
      }
    },
    {
      "cell_type": "markdown",
      "source": [
        "**Making data ready for Plotting of Count values of Different Classes...**"
      ],
      "metadata": {
        "id": "7oF0iSUPGlKn"
      }
    },
    {
      "cell_type": "code",
      "source": [
        "class_count_df = pd.DataFrame(final_dataset['Class'].value_counts().rename_axis('Class').reset_index(name='Counts'))"
      ],
      "metadata": {
        "id": "JGiODb_OGVXr"
      },
      "execution_count": 154,
      "outputs": []
    },
    {
      "cell_type": "markdown",
      "source": [
        "**Bar Graph Representation**\n",
        "\n",
        "Below code creates a bar chart showing the counts of 'Normal' and 'Fraud' classes. First, a figure named fig is created with dimensions set to 8x10. Then, a bar chart (ax) is created using the barplot() function of the seaborn library. Classes are placed on the x-axis and the count of each class on the y-axis.\n",
        "\n",
        "The ax.bar_label() function shows the values on top of each bar. ax.containers[0] represents the container where the bars are.\n",
        "\n",
        "The set_xticklabels() and set_yticklabels() functions configure the labels and display settings of the x and y axes.\n",
        "\n",
        "Finally, the xlabel(), ylabel(), and title() functions set the labels and properties of the x-axis, y-axis, and the graph title, respectively."
      ],
      "metadata": {
        "id": "CYEmQKE5G53t"
      }
    },
    {
      "cell_type": "code",
      "source": [
        "fig = plt.figure()\n",
        "fig.set_figheight(8)\n",
        "fig.set_figwidth(10)\n",
        "\n",
        "ax = sns.barplot(x=class_count_df['Class'],\n",
        "                 y=class_count_df['Counts'])\n",
        "\n",
        "ax.bar_label(ax.containers[0], color='red')\n",
        "\n",
        "ax.set_xticklabels(labels=list(class_count_df['Class']) ,c='blue', rotation=0, fontsize=10, fontweight='bold')\n",
        "labels, location = plt.yticks()\n",
        "ax.set_yticklabels(labels=labels.astype(int), c='blue', fontsize=8, fontweight='bold')\n",
        "\n",
        "plt.xlabel(xlabel='Type of Transactions', fontsize=14, fontweight='bold').set_color('purple')\n",
        "plt.ylabel(ylabel='Frequency', fontsize=14, fontweight='bold').set_color('purple')\n",
        "plt.title(label='Count Values of Normal vs Fraud Class', fontsize=24, fontweight='bold').set_color('purple')"
      ],
      "metadata": {
        "colab": {
          "base_uri": "https://localhost:8080/",
          "height": 808
        },
        "id": "OKM9TS9MGe3V",
        "outputId": "06b26f11-9d13-416f-9b1a-799c10c7b819"
      },
      "execution_count": 155,
      "outputs": [
        {
          "output_type": "stream",
          "name": "stderr",
          "text": [
            "<ipython-input-155-e22003b31caa>:10: UserWarning: FixedFormatter should only be used together with FixedLocator\n",
            "  ax.set_xticklabels(labels=list(class_count_df['Class']) ,c='blue', rotation=0, fontsize=10, fontweight='bold')\n",
            "<ipython-input-155-e22003b31caa>:12: UserWarning: FixedFormatter should only be used together with FixedLocator\n",
            "  ax.set_yticklabels(labels=labels.astype(int), c='blue', fontsize=8, fontweight='bold')\n"
          ]
        },
        {
          "output_type": "display_data",
          "data": {
            "text/plain": [
              "<Figure size 1000x800 with 1 Axes>"
            ],
            "image/png": "[encoded data removed]"
          },
          "metadata": {}
        }
      ]
    },
    {
      "cell_type": "markdown",
      "source": [
        "**Histogram Representation**\n",
        "\n",
        "In this code, histograms are used to visualize the distribution of the \"Amount\" variable across fraud and normal transactions. Histograms display the frequency of values grouped into intervals, allowing for a clear view of the distribution of amounts for each class. Additionally, scaling the y-axis logarithmically enhances the visibility of differences between large intervals in the dataset."
      ],
      "metadata": {
        "id": "obY7yPOmHPpa"
      }
    },
    {
      "cell_type": "code",
      "source": [
        "fig, (ax0, ax1) = plt.subplots(nrows=2,\n",
        "                               ncols=1,\n",
        "                               sharex=True)\n",
        "fig.suptitle(\"Variation of Amount per Class\", color='green')\n",
        "bins=50\n",
        "ax0.hist(fraud['Amount'], bins=bins, color='orange')\n",
        "ax0.set_title('Fraud')\n",
        "ax0.set_ylim(0, 100)\n",
        "ax0.set_ylabel('No. of Transactions')\n",
        "\n",
        "ax1.hist(normal['Amount'], bins=bins, color='orange')\n",
        "ax1.set_title('Normal')\n",
        "ax1.set_ylabel('No. of Transactions')\n",
        "\n",
        "plt.xlim(0, 20000)\n",
        "plt.xlabel('Amount ($)')\n",
        "plt.yscale('log')"
      ],
      "metadata": {
        "colab": {
          "base_uri": "https://localhost:8080/",
          "height": 497
        },
        "id": "ZHD-5yxoHTok",
        "outputId": "f1bc8f7a-9ca6-4f9e-b8c9-b01b1324e2e7"
      },
      "execution_count": 156,
      "outputs": [
        {
          "output_type": "display_data",
          "data": {
            "text/plain": [
              "<Figure size 640x480 with 2 Axes>"
            ],
            "image/png": "[encoded data removed]"
          },
          "metadata": {}
        }
      ]
    },
    {
      "cell_type": "markdown",
      "metadata": {
        "id": "X2vkCJu9S1lB"
      },
      "source": [
        "**Splitting the data into Training & Testing data**"
      ]
    },
    {
      "cell_type": "code",
      "execution_count": 157,
      "metadata": {
        "id": "yyvZpfi9Su1b"
      },
      "outputs": [],
      "source": [
        "X_train , X_test , Y_train , Y_test = train_test_split(X , Y , test_size=0.2 , stratify=Y , random_state=2 ) #stratify provide a balance between train and test set"
      ]
    },
    {
      "cell_type": "code",
      "execution_count": 158,
      "metadata": {
        "id": "h0bS4WqjCRfO"
      },
      "outputs": [],
      "source": [
        "# List of models\n",
        "models = [ DecisionTreeClassifier(), LogisticRegression(max_iter=10000), LGBMClassifier(verbose=-1), RandomForestClassifier(),]"
      ]
    },
    {
      "cell_type": "markdown",
      "metadata": {
        "id": "8G9ri28GTUT9"
      },
      "source": [
        "**Model Training and Comparing with other models**\n",
        "\n",
        "---\n",
        "\n",
        "Firstly, each model is trained here. For training, input data (X_train) and target labels (Y_train) are used. Then, the trained model makes predictions on a separate test dataset (X_test). These predictions are compared with the actual target labels (Y_test) to calculate the accuracy score of each model.\n",
        "\n",
        "The results are printed to the screen in the form of accuracy scores, showing the performance of each model on the test dataset. This helps determine which model performs best for the given dataset."
      ]
    },
    {
      "cell_type": "code",
      "execution_count": 159,
      "metadata": {
        "id": "NDolA_3_TisC"
      },
      "outputs": [],
      "source": [
        "def compare_models_train_test():\n",
        "\n",
        "  for model in models:\n",
        "\n",
        "    # Training the model\n",
        "    model.fit(X_train,Y_train)\n",
        "\n",
        "    # Evaluating the model\n",
        "    test_data_prediction = model.predict(X_test)\n",
        "\n",
        "    accuracy = accuracy_score(Y_test, test_data_prediction)\n",
        "\n",
        "    print('Accuracy score of the ', model , ' = ', accuracy)"
      ]
    },
    {
      "cell_type": "code",
      "execution_count": 160,
      "metadata": {
        "colab": {
          "base_uri": "https://localhost:8080/"
        },
        "id": "S8YurscPLei4",
        "outputId": "56a82cc2-d39e-4f1f-8b50-312f8930668f"
      },
      "outputs": [
        {
          "output_type": "stream",
          "name": "stdout",
          "text": [
            "Accuracy score of the  DecisionTreeClassifier()  =  0.9827586206896551\n",
            "Accuracy score of the  LogisticRegression(max_iter=10000)  =  0.9741379310344828\n",
            "Accuracy score of the  LGBMClassifier(verbose=-1)  =  0.9741379310344828\n",
            "Accuracy score of the  RandomForestClassifier()  =  0.9913793103448276\n"
          ]
        }
      ],
      "source": [
        "compare_models_train_test() # Comparing the accuracies of each model"
      ]
    },
    {
      "cell_type": "markdown",
      "metadata": {
        "id": "amPV4_O8PJKN"
      },
      "source": [
        " **Cross Validation**\n",
        "\n",
        "---\n",
        "\n",
        "Cross validation is a technique used in machine learning to evaluate the performance of a model on unseen data. It involves dividing the available data into multiple folds or subsets, using one of these folds as a validation set, and training the model on the remaining folds. This process is repeated multiple times, each time using a different fold as the validation set. Finally, the results from each validation step are averaged to produce a more robust estimate of the model’s performance. Cross validation is an important step in the machine learning process and helps to ensure that the model selected for deployment is robust and generalizes well to new data."
      ]
    },
    {
      "cell_type": "code",
      "execution_count": 161,
      "metadata": {
        "id": "p6eQKXqyVymg"
      },
      "outputs": [],
      "source": [
        "# Creating a function to compare performance of the models\n",
        "def compare_models_cross_validation():\n",
        "\n",
        "  for model in models :\n",
        "\n",
        "    cv_score = cross_val_score(model, X, Y, cv=5)\n",
        "\n",
        "    mean_accuracy = sum(cv_score)/len(cv_score)\n",
        "\n",
        "    mean_accuracy =  mean_accuracy*100\n",
        "\n",
        "    mean_accuracy = round(mean_accuracy,2)\n",
        "\n",
        "    print('Cross validation accuracies for the ', model, '= ',cv_score)\n",
        "\n",
        "    print('Accuracy % of the ', model, mean_accuracy)\n",
        "\n",
        "    print('--------------------------------------------')"
      ]
    },
    {
      "cell_type": "code",
      "execution_count": 162,
      "metadata": {
        "colab": {
          "base_uri": "https://localhost:8080/"
        },
        "id": "a59_0DYnVbKK",
        "outputId": "30c1b63a-ed05-4e95-e56c-d7a3a0051e93"
      },
      "outputs": [
        {
          "output_type": "stream",
          "name": "stdout",
          "text": [
            "Cross validation accuracies for the  DecisionTreeClassifier() =  [0.97413793 0.98275862 0.94782609 0.99130435 0.97391304]\n",
            "Accuracy % of the  DecisionTreeClassifier() 97.4\n",
            "--------------------------------------------\n",
            "Cross validation accuracies for the  LogisticRegression(max_iter=10000) =  [0.99137931 0.96551724 0.96521739 0.99130435 0.97391304]\n",
            "Accuracy % of the  LogisticRegression(max_iter=10000) 97.75\n",
            "--------------------------------------------\n",
            "Cross validation accuracies for the  LGBMClassifier(verbose=-1) =  [0.98275862 1.         0.97391304 0.99130435 0.99130435]\n",
            "Accuracy % of the  LGBMClassifier(verbose=-1) 98.79\n",
            "--------------------------------------------\n",
            "Cross validation accuracies for the  RandomForestClassifier() =  [0.98275862 1.         0.95652174 0.9826087  0.99130435]\n",
            "Accuracy % of the  RandomForestClassifier() 98.26\n",
            "--------------------------------------------\n"
          ]
        }
      ],
      "source": [
        "compare_models_cross_validation()"
      ]
    },
    {
      "cell_type": "markdown",
      "source": [
        "\n",
        "We obtain the accuracy results obtained through cross-validation for four different classification algorithms (Decision Trees, Logistic Regression, LightGBM, and Random Forest). Based on the cross-validation accuracies of these algorithms, we see that the Random Forest classifier has the highest average accuracy rate. We will now proceed with our model based on this."
      ],
      "metadata": {
        "id": "qfIVF52Vd95l"
      }
    },
    {
      "cell_type": "markdown",
      "source": [
        "\n",
        "\n",
        "---\n",
        "Here we define the parameters of the Random Forest classifier or regression model, allowing us to determine how the Random Forest model will be constructed and behave."
      ],
      "metadata": {
        "id": "bEq-hAuteirW"
      }
    },
    {
      "cell_type": "code",
      "execution_count": 163,
      "metadata": {
        "id": "u5anuPvKXd1X"
      },
      "outputs": [],
      "source": [
        "# Number of trees in random forest\n",
        "n_estimators = [int(x) for x in np.linspace(start = 10, stop = 80, num=10)]\n",
        "\n",
        "# Number of features to consider at every split\n",
        "max_features = ['auto','sqrt']\n",
        "\n",
        "# Maximum number of levels in tree\n",
        "max_depth = [2,4]\n",
        "\n",
        "# Minimum number of samples required to split a node\n",
        "min_samples_split = [2,5]\n",
        "\n",
        "# Minumum number of samples required at each leaf node\n",
        "min_samples_leaf = [1,2]\n",
        "\n",
        "# Method of selecting samples for training each tree\n",
        "bootstrap = [True, False]\n"
      ]
    },
    {
      "cell_type": "code",
      "source": [
        "# Create the param grid\n",
        "param_grid = {'n_estimators' : n_estimators,\n",
        "              'max_depth' : max_depth,\n",
        "              'min_samples_split' : min_samples_split,\n",
        "              'min_samples_leaf' : min_samples_leaf,\n",
        "              'bootstrap' : bootstrap}\n",
        "print(param_grid)"
      ],
      "metadata": {
        "id": "Jx_3c7-nRgrq",
        "colab": {
          "base_uri": "https://localhost:8080/"
        },
        "outputId": "7b1b9910-abde-4020-ccf4-fd2fc2aaf37a"
      },
      "execution_count": 164,
      "outputs": [
        {
          "output_type": "stream",
          "name": "stdout",
          "text": [
            "{'n_estimators': [10, 17, 25, 33, 41, 48, 56, 64, 72, 80], 'max_depth': [2, 4], 'min_samples_split': [2, 5], 'min_samples_leaf': [1, 2], 'bootstrap': [True, False]}\n"
          ]
        }
      ]
    },
    {
      "cell_type": "code",
      "source": [
        "rf_Model = RandomForestClassifier()  # We assign the best model we choose"
      ],
      "metadata": {
        "id": "o593m7cXz1xv"
      },
      "execution_count": 165,
      "outputs": []
    },
    {
      "cell_type": "markdown",
      "source": [
        "**Hyperparameter Optimization**\n",
        "\n",
        "---\n",
        "\n",
        "Hyperparameter = Hyperparameters in machine learning are settings or configurations that are set before the learning process begins, governing the behavior of the algorithm.\n",
        "\n",
        "There are hyperparameter tuning methods such as Grid Search, Random Search, and Bayesian Optimization. Among these, it has been found that Random Search is more effective, and our parameters were optimized using Random Search."
      ],
      "metadata": {
        "id": "tHhniiejgciM"
      }
    },
    {
      "cell_type": "code",
      "source": [
        "from sklearn.model_selection import RandomizedSearchCV\n",
        "rf_RandomGrid = RandomizedSearchCV(estimator = rf_Model, param_distributions = param_grid, cv=5, verbose=2 , n_jobs=4 )"
      ],
      "metadata": {
        "id": "Wd2U--zNWIEL"
      },
      "execution_count": 166,
      "outputs": []
    },
    {
      "cell_type": "code",
      "source": [
        "rf_RandomGrid.fit(X_train,Y_train) #This process searches through various combinations of hyperparameters of the random forest to find the\n",
        "#model that will provide the best performance. As a result of this process, a model containing the best parameters in a set of hyperparameters is obtained.\n",
        "\n",
        "best_model = rf_RandomGrid.best_estimator_\n",
        "\n",
        "prediction = best_model.predict(X_test)  # Makes predictions on the X_test dataset, using the best model\n"
      ],
      "metadata": {
        "colab": {
          "base_uri": "https://localhost:8080/"
        },
        "id": "4JAY3Felr9VR",
        "outputId": "299e620f-e0ed-45f3-d0c4-4fa7cdda9ed8"
      },
      "execution_count": 167,
      "outputs": [
        {
          "output_type": "stream",
          "name": "stdout",
          "text": [
            "Fitting 5 folds for each of 10 candidates, totalling 50 fits\n"
          ]
        }
      ]
    },
    {
      "cell_type": "markdown",
      "source": [
        "Below code evaluates and visualizes the performance of a classification model. It consists of two main parts:\n",
        "\n",
        "**Classification Report:** It reports the model's performance in detail, providing metrics such as accuracy, precision, recall, and F1 score. It shows the performance for each class separately.\n",
        "\n",
        "**Confusion Matrix:** It visualizes the confusion between classes by creating a heatmap. It displays the relationship between actual and predicted labels. Misclassified examples are shown with lower values in the heatmap."
      ],
      "metadata": {
        "id": "LgnQ8HoambEp"
      }
    },
    {
      "cell_type": "code",
      "source": [
        "# Classification report\n",
        "report = classification_report(Y_test, prediction)\n",
        "print(\"Classification Report:\")\n",
        "print()\n",
        "print(report)\n",
        "\n",
        "print('------------------------------------------------------------')\n",
        "print()\n",
        "\n",
        "# Confusion matrix\n",
        "conf_matrix = confusion_matrix(Y_test, prediction)\n",
        "print(\"Confusion Matrix:\")\n",
        "print()\n",
        "\n",
        "fig, ax = plt.subplots(figsize=(6,4))\n",
        "sns.heatmap(conf_matrix, annot=True, cmap='coolwarm', fmt='g')\n",
        "fig.suptitle(t=\"Confusion Matrix of Testing Datasets\",\n",
        "                 color=\"orange\",\n",
        "                 fontsize=16);\n",
        "ax.set(xlabel=\"Predicted Label\",\n",
        "ylabel=\"Actual Label\");"
      ],
      "metadata": {
        "colab": {
          "base_uri": "https://localhost:8080/",
          "height": 700
        },
        "id": "nMKnc_BC4PxX",
        "outputId": "6f17b0cb-5f99-4846-f1d8-db13990b1739"
      },
      "execution_count": 168,
      "outputs": [
        {
          "output_type": "stream",
          "name": "stdout",
          "text": [
            "Classification Report:\n",
            "\n",
            "              precision    recall  f1-score   support\n",
            "\n",
            "         0.0       0.97      1.00      0.99        99\n",
            "         1.0       1.00      0.82      0.90        17\n",
            "\n",
            "    accuracy                           0.97       116\n",
            "   macro avg       0.99      0.91      0.94       116\n",
            "weighted avg       0.97      0.97      0.97       116\n",
            "\n",
            "------------------------------------------------------------\n",
            "\n",
            "Confusion Matrix:\n",
            "\n"
          ]
        },
        {
          "output_type": "display_data",
          "data": {
            "text/plain": [
              "<Figure size 600x400 with 2 Axes>"
            ],
            "image/png": "[encoded data removed]"
          },
          "metadata": {}
        }
      ]
    }
  ],
  "metadata": {
    "colab": {
      "provenance": []
    },
    "kernelspec": {
      "display_name": "Python 3",
      "name": "python3"
    },
    "language_info": {
      "name": "python"
    }
  },
  "nbformat": 4,
  "nbformat_minor": 0
}